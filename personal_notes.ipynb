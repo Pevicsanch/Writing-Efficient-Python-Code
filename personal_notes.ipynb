{
 "cells": [
  {
   "cell_type": "markdown",
   "metadata": {},
   "source": [
    "Personal notes from DataCamp course [Writing Efficient Python Code course](https://www.datacamp.com/courses/writing-efficient-python-code#!)\n",
    "\n",
    "$~$\n",
    "________"
   ]
  },
  {
   "cell_type": "markdown",
   "metadata": {},
   "source": [
    "$~$\n",
    "\n",
    "# Writing Efficient Python Code:\n",
    "\n",
    "Learn to write efficient code that executes quickly and allocates resources skillfully to avoid unnecessary overhead.\n",
    "\n",
    "$~$"
   ]
  },
  {
   "cell_type": "markdown",
   "metadata": {},
   "source": [
    "$~$\n",
    "\n",
    "## 1. Foundations for efficiencies\n",
    "\n",
    "$~$\n",
    "\n",
    "In this chapter, you'll learn what it means to write efficient Python code. You'll explore Python's Standard Library, learn about NumPy arrays, and practice using some of Python's built-in tools. This chapter builds a foundation for the concepts covered ahead.\n",
    "\n",
    "$~$"
   ]
  },
  {
   "cell_type": "markdown",
   "metadata": {},
   "source": []
  }
 ],
 "metadata": {
  "kernelspec": {
   "display_name": "Python 3.9.5 64-bit ('3.9.5')",
   "language": "python",
   "name": "python3"
  },
  "language_info": {
   "name": "python",
   "version": "3.9.5"
  },
  "orig_nbformat": 4,
  "vscode": {
   "interpreter": {
    "hash": "c196e456b92eeb3a60b06f99b3c60ac6c4763f8bb1169beee1475ccb9dd5a29f"
   }
  }
 },
 "nbformat": 4,
 "nbformat_minor": 2
}
